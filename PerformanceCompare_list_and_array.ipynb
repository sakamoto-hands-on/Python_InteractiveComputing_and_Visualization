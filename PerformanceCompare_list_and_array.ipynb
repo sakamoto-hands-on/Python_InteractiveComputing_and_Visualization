{
  "nbformat": 4,
  "nbformat_minor": 0,
  "metadata": {
    "colab": {
      "name": "PerformanceCompare_list_and_array.ipynb",
      "provenance": [],
      "collapsed_sections": [],
      "include_colab_link": true
    },
    "kernelspec": {
      "name": "python3",
      "display_name": "Python 3"
    }
  },
  "cells": [
    {
      "cell_type": "markdown",
      "metadata": {
        "id": "view-in-github",
        "colab_type": "text"
      },
      "source": [
        "<a href=\"https://colab.research.google.com/github/sakamoto-hands-on/Python_InteractiveComputing_and_Visualization/blob/master/PerformanceCompare_list_and_array.ipynb\" target=\"_parent\"><img src=\"https://colab.research.google.com/assets/colab-badge.svg\" alt=\"Open In Colab\"/></a>"
      ]
    },
    {
      "cell_type": "markdown",
      "metadata": {
        "id": "Miz4MCMvlthV",
        "colab_type": "text"
      },
      "source": [
        "# Pythonの標準クラスのlistと、NumPyのArrayのパフォーマンス比較"
      ]
    },
    {
      "cell_type": "markdown",
      "metadata": {
        "id": "oY30cSE2mibt",
        "colab_type": "text"
      },
      "source": [
        "## 100万件のランダムデータを、Pythonのlistに格納"
      ]
    },
    {
      "cell_type": "code",
      "metadata": {
        "id": "yXFR35dsks3p",
        "colab_type": "code",
        "colab": {}
      },
      "source": [
        "import random\n",
        "import numpy as np"
      ],
      "execution_count": 0,
      "outputs": []
    },
    {
      "cell_type": "code",
      "metadata": {
        "id": "sXW57-RqkyWf",
        "colab_type": "code",
        "colab": {}
      },
      "source": [
        "n = 1000000\n",
        "x = [random.random() for _ in range(n)]\n",
        "y = [random.random() for _ in range(n)]"
      ],
      "execution_count": 0,
      "outputs": []
    },
    {
      "cell_type": "code",
      "metadata": {
        "id": "M0gZNM5RlXwB",
        "colab_type": "code",
        "colab": {
          "base_uri": "https://localhost:8080/",
          "height": 51
        },
        "outputId": "f1fffebc-086a-4afb-d791-d1203b3d3bbb"
      },
      "source": [
        "x[:3], y[:3]"
      ],
      "execution_count": 7,
      "outputs": [
        {
          "output_type": "execute_result",
          "data": {
            "text/plain": [
              "([0.7978740658342879, 0.37910737767637603, 0.6552620396406984],\n",
              " [0.23034108258257835, 0.3598496566009881, 0.6277437211571817])"
            ]
          },
          "metadata": {
            "tags": []
          },
          "execution_count": 7
        }
      ]
    },
    {
      "cell_type": "code",
      "metadata": {
        "id": "p4BqFqCildyT",
        "colab_type": "code",
        "colab": {
          "base_uri": "https://localhost:8080/",
          "height": 34
        },
        "outputId": "13139240-01d1-4eb8-ae68-57714aa5978a"
      },
      "source": [
        "z = [x[i] + y[i] for i in range(n)]\n",
        "z[:3]"
      ],
      "execution_count": 8,
      "outputs": [
        {
          "output_type": "execute_result",
          "data": {
            "text/plain": [
              "[1.0282151484168662, 0.7389570342773641, 1.28300576079788]"
            ]
          },
          "metadata": {
            "tags": []
          },
          "execution_count": 8
        }
      ]
    },
    {
      "cell_type": "code",
      "metadata": {
        "id": "gFCgn_QPmBaT",
        "colab_type": "code",
        "colab": {
          "base_uri": "https://localhost:8080/",
          "height": 34
        },
        "outputId": "8438a38b-0af1-4fcf-feb9-ff300ebe3cda"
      },
      "source": [
        "%timeit z = [x[i] + y[i] for i in range(n)]"
      ],
      "execution_count": 9,
      "outputs": [
        {
          "output_type": "stream",
          "text": [
            "10 loops, best of 3: 131 ms per loop\n"
          ],
          "name": "stdout"
        }
      ]
    },
    {
      "cell_type": "markdown",
      "metadata": {
        "id": "6esMqOR2mrE1",
        "colab_type": "text"
      },
      "source": [
        "## 先ほど作ったランダムなリストを、NumPyのArrayに格納"
      ]
    },
    {
      "cell_type": "code",
      "metadata": {
        "id": "ESKSBCs_mT4e",
        "colab_type": "code",
        "colab": {
          "base_uri": "https://localhost:8080/",
          "height": 34
        },
        "outputId": "86ea7b50-d106-4c1e-a15c-9440e8450fc5"
      },
      "source": [
        "xa = np.array(x)\n",
        "ya = np.array(y)\n",
        "xa[:3]"
      ],
      "execution_count": 10,
      "outputs": [
        {
          "output_type": "execute_result",
          "data": {
            "text/plain": [
              "array([0.79787407, 0.37910738, 0.65526204])"
            ]
          },
          "metadata": {
            "tags": []
          },
          "execution_count": 10
        }
      ]
    },
    {
      "cell_type": "code",
      "metadata": {
        "id": "u0WicLaSm2ZF",
        "colab_type": "code",
        "colab": {
          "base_uri": "https://localhost:8080/",
          "height": 34
        },
        "outputId": "a61106f1-e5ea-415e-91cf-eda7a5dc7f91"
      },
      "source": [
        "za = xa + ya\n",
        "za[:3]"
      ],
      "execution_count": 11,
      "outputs": [
        {
          "output_type": "execute_result",
          "data": {
            "text/plain": [
              "array([1.02821515, 0.73895703, 1.28300576])"
            ]
          },
          "metadata": {
            "tags": []
          },
          "execution_count": 11
        }
      ]
    },
    {
      "cell_type": "markdown",
      "metadata": {
        "id": "lZj0lUD0nBHo",
        "colab_type": "text"
      },
      "source": [
        "## Tip \n",
        "### Pythonの標準listでも、「＋」を使ってもエラーにはならないが、それはNumPyのように、要素ごとに加算しているんではなく、単にConcatenation（結合）されているだけであることに注意！"
      ]
    },
    {
      "cell_type": "code",
      "metadata": {
        "id": "HrRikrn9ncjt",
        "colab_type": "code",
        "colab": {
          "base_uri": "https://localhost:8080/",
          "height": 34
        },
        "outputId": "a1c99628-e419-4d4b-f4cd-617c42899420"
      },
      "source": [
        "%timeit xa + ya"
      ],
      "execution_count": 12,
      "outputs": [
        {
          "output_type": "stream",
          "text": [
            "100 loops, best of 3: 2.44 ms per loop\n"
          ],
          "name": "stdout"
        }
      ]
    },
    {
      "cell_type": "markdown",
      "metadata": {
        "id": "udeZ6MBBothp",
        "colab_type": "text"
      },
      "source": [
        "### 結果：Colaboratory上で比較したところ、約50倍ほどNumPyのほうが早くなることが確認できた\n",
        "ちなみに、参考書のサンプルだと100倍以上のパフォーマンス向上が見られているので、それが半分になっているのは、ちょっと残念なような気もしましたが、いずれにしろ、桁違いのパフォーマンスが得られることが分かりました。\n",
        "クラウド上だと、ローカルとは違うのだろうか？　ちょっと気になったが、最近めっきりローカルでの環境構築が面倒になってしまったので、そちらの検証は差し控えます。　　\n",
        "\n",
        "NumPyはCで実装されているため、早いのだそうです。いま、少しCやRustも学習中なので、そちらのモチベーション・アップにもつながりました！"
      ]
    }
  ]
}