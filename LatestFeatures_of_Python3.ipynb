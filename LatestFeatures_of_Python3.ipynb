{
  "nbformat": 4,
  "nbformat_minor": 0,
  "metadata": {
    "colab": {
      "name": "LatestFeatures_of_Python3.ipynb",
      "provenance": [],
      "collapsed_sections": [],
      "include_colab_link": true
    },
    "kernelspec": {
      "name": "python3",
      "display_name": "Python 3"
    }
  },
  "cells": [
    {
      "cell_type": "markdown",
      "metadata": {
        "id": "view-in-github",
        "colab_type": "text"
      },
      "source": [
        "<a href=\"https://colab.research.google.com/github/sakamoto-hands-on/Python_InteractiveComputing_and_Visualization/blob/master/LatestFeatures_of_Python3.ipynb\" target=\"_parent\"><img src=\"https://colab.research.google.com/assets/colab-badge.svg\" alt=\"Open In Colab\"/></a>"
      ]
    },
    {
      "cell_type": "markdown",
      "metadata": {
        "id": "-bY0iRkuUAUQ",
        "colab_type": "text"
      },
      "source": [
        "### Python3では、print()は関数。\n",
        "Python2では文(Statement）だった。\n",
        "\n",
        "この関数は複数の引数を取ることができる。"
      ]
    },
    {
      "cell_type": "code",
      "metadata": {
        "id": "MUGfMAx4T4tJ",
        "colab_type": "code",
        "colab": {}
      },
      "source": [
        "my_list = list(range(10))"
      ],
      "execution_count": 0,
      "outputs": []
    },
    {
      "cell_type": "code",
      "metadata": {
        "id": "MvtR3etpU07v",
        "colab_type": "code",
        "colab": {
          "base_uri": "https://localhost:8080/",
          "height": 35
        },
        "outputId": "7f14673c-fb7a-40cb-cfba-0a0bbf5a3c19"
      },
      "source": [
        "print(my_list)"
      ],
      "execution_count": 2,
      "outputs": [
        {
          "output_type": "stream",
          "text": [
            "[0, 1, 2, 3, 4, 5, 6, 7, 8, 9]\n"
          ],
          "name": "stdout"
        }
      ]
    },
    {
      "cell_type": "code",
      "metadata": {
        "id": "yQhtS0EhU3h2",
        "colab_type": "code",
        "colab": {
          "base_uri": "https://localhost:8080/",
          "height": 35
        },
        "outputId": "c6f0bbc8-b060-4e23-a938-2dba07a930c3"
      },
      "source": [
        "print(*my_list)"
      ],
      "execution_count": 3,
      "outputs": [
        {
          "output_type": "stream",
          "text": [
            "0 1 2 3 4 5 6 7 8 9\n"
          ],
          "name": "stdout"
        }
      ]
    },
    {
      "cell_type": "code",
      "metadata": {
        "id": "PjKqlSS_U64h",
        "colab_type": "code",
        "colab": {
          "base_uri": "https://localhost:8080/",
          "height": 35
        },
        "outputId": "402b508a-8a71-473e-d568-9e563d799c14"
      },
      "source": [
        "print(*my_list,sep=\"+\",end=\"=%d\" %sum(my_list))"
      ],
      "execution_count": 4,
      "outputs": [
        {
          "output_type": "stream",
          "text": [
            "0+1+2+3+4+5+6+7+8+9=45"
          ],
          "name": "stdout"
        }
      ]
    },
    {
      "cell_type": "markdown",
      "metadata": {
        "id": "sYZvs-PsWKWa",
        "colab_type": "text"
      },
      "source": [
        "### Python3.6では「f-string」というものがある"
      ]
    },
    {
      "cell_type": "code",
      "metadata": {
        "id": "yR9UsTtIWSml",
        "colab_type": "code",
        "colab": {
          "base_uri": "https://localhost:8080/",
          "height": 35
        },
        "outputId": "44b1984f-83d5-48f5-fcd9-a114f22079ef"
      },
      "source": [
        "a,b =1,2\n",
        "f\"The sum of {a} and {b} is {a+b}\""
      ],
      "execution_count": 6,
      "outputs": [
        {
          "output_type": "execute_result",
          "data": {
            "text/plain": [
              "'The sum of 1 and 2 is 3'"
            ]
          },
          "metadata": {
            "tags": []
          },
          "execution_count": 6
        }
      ]
    },
    {
      "cell_type": "markdown",
      "metadata": {
        "id": "qYK1IzQTSIqS",
        "colab_type": "text"
      },
      "source": [
        "\n",
        "\n",
        "---\n",
        "\n"
      ]
    },
    {
      "cell_type": "markdown",
      "metadata": {
        "id": "vIJe6xyEZhbp",
        "colab_type": "text"
      },
      "source": [
        "### Python3.3からは新しい「yield from」構文が使える\n",
        "下の二つの関数は同じことをしている"
      ]
    },
    {
      "cell_type": "code",
      "metadata": {
        "id": "3IfSW2jNZvGD",
        "colab_type": "code",
        "colab": {}
      },
      "source": [
        "def gen1():\n",
        "  for i in range(5):\n",
        "    for j in range(i):\n",
        "      yield j\n",
        "\n",
        "def gen2():\n",
        "  for i in range(5):\n",
        "    yield from range(i) #こちらのほうが若干すっきり"
      ],
      "execution_count": 0,
      "outputs": []
    },
    {
      "cell_type": "code",
      "metadata": {
        "id": "Tq1MpyaraDTS",
        "colab_type": "code",
        "colab": {
          "base_uri": "https://localhost:8080/",
          "height": 35
        },
        "outputId": "718204f1-2fd8-4576-af69-73b83709f992"
      },
      "source": [
        "list(gen1())"
      ],
      "execution_count": 11,
      "outputs": [
        {
          "output_type": "execute_result",
          "data": {
            "text/plain": [
              "[0, 0, 1, 0, 1, 2, 0, 1, 2, 3]"
            ]
          },
          "metadata": {
            "tags": []
          },
          "execution_count": 11
        }
      ]
    },
    {
      "cell_type": "code",
      "metadata": {
        "id": "SenW95DqaI8g",
        "colab_type": "code",
        "colab": {
          "base_uri": "https://localhost:8080/",
          "height": 35
        },
        "outputId": "1dc6cd38-00f0-468d-ea1e-02ab26b4d147"
      },
      "source": [
        "list(gen2())"
      ],
      "execution_count": 14,
      "outputs": [
        {
          "output_type": "execute_result",
          "data": {
            "text/plain": [
              "[0, 0, 1, 0, 1, 2, 0, 1, 2, 3]"
            ]
          },
          "metadata": {
            "tags": []
          },
          "execution_count": 14
        }
      ]
    },
    {
      "cell_type": "markdown",
      "metadata": {
        "id": "VaS_sthGSEce",
        "colab_type": "text"
      },
      "source": [
        "\n",
        "\n",
        "---\n",
        "\n"
      ]
    },
    {
      "cell_type": "markdown",
      "metadata": {
        "id": "SHlrBbGnRtQS",
        "colab_type": "text"
      },
      "source": [
        "### functools libraryは「@lru_cache」を提供している"
      ]
    },
    {
      "cell_type": "code",
      "metadata": {
        "id": "BcH610tyQc4X",
        "colab_type": "code",
        "colab": {}
      },
      "source": [
        "import time"
      ],
      "execution_count": 0,
      "outputs": []
    },
    {
      "cell_type": "code",
      "metadata": {
        "id": "ycC6iGhWQiiD",
        "colab_type": "code",
        "colab": {}
      },
      "source": [
        "def f1(x):\n",
        "  time.sleep(1)\n",
        "  return x"
      ],
      "execution_count": 0,
      "outputs": []
    },
    {
      "cell_type": "markdown",
      "metadata": {
        "id": "_aZDlV6eR3B0",
        "colab_type": "text"
      },
      "source": [
        "下の例はキャッシュを使わないと、毎回同じ処理時間になる"
      ]
    },
    {
      "cell_type": "code",
      "metadata": {
        "id": "KgksRxDtQqkr",
        "colab_type": "code",
        "colab": {
          "base_uri": "https://localhost:8080/",
          "height": 35
        },
        "outputId": "c9daa89d-317a-42d6-8e6c-ddadf68c96ad"
      },
      "source": [
        "%timeit -n1 -r1 f1(0)"
      ],
      "execution_count": 3,
      "outputs": [
        {
          "output_type": "stream",
          "text": [
            "1 loop, best of 1: 1 s per loop\n"
          ],
          "name": "stdout"
        }
      ]
    },
    {
      "cell_type": "code",
      "metadata": {
        "id": "pqeDwKg1Q5iD",
        "colab_type": "code",
        "colab": {
          "base_uri": "https://localhost:8080/",
          "height": 35
        },
        "outputId": "9bef3b57-4255-407c-edd7-77056d5941ac"
      },
      "source": [
        "%timeit -n1 -r1 f1(0)"
      ],
      "execution_count": 4,
      "outputs": [
        {
          "output_type": "stream",
          "text": [
            "1 loop, best of 1: 1 s per loop\n"
          ],
          "name": "stdout"
        }
      ]
    },
    {
      "cell_type": "markdown",
      "metadata": {
        "id": "g12XtwitR9Qw",
        "colab_type": "text"
      },
      "source": [
        "lru_cacheを使うことで、2回目の処理が格段に速くなる"
      ]
    },
    {
      "cell_type": "code",
      "metadata": {
        "id": "1SC6I7Z7Q7Uk",
        "colab_type": "code",
        "colab": {}
      },
      "source": [
        "from functools import lru_cache"
      ],
      "execution_count": 0,
      "outputs": []
    },
    {
      "cell_type": "code",
      "metadata": {
        "id": "vWz9g-BJRHuP",
        "colab_type": "code",
        "colab": {}
      },
      "source": [
        "@lru_cache(maxsize=32)\n",
        "def f2(x):\n",
        "  time.sleep(1)\n",
        "  return x"
      ],
      "execution_count": 0,
      "outputs": []
    },
    {
      "cell_type": "code",
      "metadata": {
        "id": "80VHfRbTRRhP",
        "colab_type": "code",
        "colab": {
          "base_uri": "https://localhost:8080/",
          "height": 35
        },
        "outputId": "1f2025f5-532b-43d2-a25f-08661a783010"
      },
      "source": [
        "%timeit -n1 -r1 f2(0)"
      ],
      "execution_count": 8,
      "outputs": [
        {
          "output_type": "stream",
          "text": [
            "1 loop, best of 1: 1 s per loop\n"
          ],
          "name": "stdout"
        }
      ]
    },
    {
      "cell_type": "code",
      "metadata": {
        "id": "d86jKpTNReoK",
        "colab_type": "code",
        "colab": {
          "base_uri": "https://localhost:8080/",
          "height": 35
        },
        "outputId": "49c370e6-12cb-4cfc-dc74-0558ab849de4"
      },
      "source": [
        "%timeit -n1 -r1 f2(0)"
      ],
      "execution_count": 9,
      "outputs": [
        {
          "output_type": "stream",
          "text": [
            "1 loop, best of 1: 2.29 µs per loop\n"
          ],
          "name": "stdout"
        }
      ]
    },
    {
      "cell_type": "markdown",
      "metadata": {
        "id": "t0BLTIThSLmI",
        "colab_type": "text"
      },
      "source": [
        "\n",
        "\n",
        "---\n",
        "\n"
      ]
    }
  ]
}