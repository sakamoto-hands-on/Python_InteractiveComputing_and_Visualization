{
  "nbformat": 4,
  "nbformat_minor": 0,
  "metadata": {
    "colab": {
      "name": "Using_Python_to_write_FasterCode.ipynb",
      "provenance": [],
      "collapsed_sections": [],
      "authorship_tag": "ABX9TyOnkq092fJQa8kPKUYFTFcn",
      "include_colab_link": true
    },
    "kernelspec": {
      "name": "python3",
      "display_name": "Python 3"
    }
  },
  "cells": [
    {
      "cell_type": "markdown",
      "metadata": {
        "id": "view-in-github",
        "colab_type": "text"
      },
      "source": [
        "<a href=\"https://colab.research.google.com/github/sakamoto-hands-on/Python_InteractiveComputing_and_Visualization/blob/master/Using_Python_to_write_FasterCode.ipynb\" target=\"_parent\"><img src=\"https://colab.research.google.com/assets/colab-badge.svg\" alt=\"Open In Colab\"/></a>"
      ]
    },
    {
      "cell_type": "markdown",
      "metadata": {
        "id": "3On7wUyOaDlR",
        "colab_type": "text"
      },
      "source": [
        "#標準的なPythonで早いコードを書くには"
      ]
    },
    {
      "cell_type": "markdown",
      "metadata": {
        "id": "q0qgTJLzaKvV",
        "colab_type": "text"
      },
      "source": [
        "Cやjavaのように書こうとすると、Pythonは遅いかもしれない。しかしパイソニック(Pythonic)に書けるなら十分な早さを出せることがしばしばある"
      ]
    },
    {
      "cell_type": "code",
      "metadata": {
        "id": "F4Zvm0p0SARc",
        "colab_type": "code",
        "colab": {}
      },
      "source": [
        "import random\n",
        "l = [random.normalvariate(0,1) for i in range(100000)]"
      ],
      "execution_count": 0,
      "outputs": []
    },
    {
      "cell_type": "code",
      "metadata": {
        "id": "2fcwl03vSIPK",
        "colab_type": "code",
        "colab": {}
      },
      "source": [
        "def sum1():\n",
        "  #パイソニックではないダメで遅いコード\n",
        "  res = 0\n",
        "  for i in range(len(l)):\n",
        "    res = res + l[i]\n",
        "  return res"
      ],
      "execution_count": 0,
      "outputs": []
    },
    {
      "cell_type": "code",
      "metadata": {
        "id": "GsYdd9mySbp7",
        "colab_type": "code",
        "colab": {
          "base_uri": "https://localhost:8080/",
          "height": 35
        },
        "outputId": "96d34f5a-c3f2-4466-f74b-aee97a975a85"
      },
      "source": [
        "sum1()"
      ],
      "execution_count": 6,
      "outputs": [
        {
          "output_type": "execute_result",
          "data": {
            "text/plain": [
              "357.0955700389667"
            ]
          },
          "metadata": {
            "tags": []
          },
          "execution_count": 6
        }
      ]
    },
    {
      "cell_type": "code",
      "metadata": {
        "id": "yOD4CrEDStbl",
        "colab_type": "code",
        "colab": {
          "base_uri": "https://localhost:8080/",
          "height": 35
        },
        "outputId": "f23b8009-93ae-4fe4-8be0-2df19af6afdf"
      },
      "source": [
        "%timeit sum1()"
      ],
      "execution_count": 7,
      "outputs": [
        {
          "output_type": "stream",
          "text": [
            "100 loops, best of 3: 5.39 ms per loop\n"
          ],
          "name": "stdout"
        }
      ]
    },
    {
      "cell_type": "markdown",
      "metadata": {
        "id": "JrP6ro84S2oI",
        "colab_type": "text"
      },
      "source": [
        "たった10万個の数字を計算するに約6ミリセカンドかかるのは、遅い"
      ]
    },
    {
      "cell_type": "code",
      "metadata": {
        "id": "b_ThkLtuSyPO",
        "colab_type": "code",
        "colab": {}
      },
      "source": [
        "def sum2():\n",
        "  #まだダメ\n",
        "  res = 0\n",
        "  for x in l:\n",
        "    res=res+x\n",
        "  return res"
      ],
      "execution_count": 0,
      "outputs": []
    },
    {
      "cell_type": "code",
      "metadata": {
        "id": "WjGIvMsvTT0w",
        "colab_type": "code",
        "colab": {
          "base_uri": "https://localhost:8080/",
          "height": 35
        },
        "outputId": "ee9a3a98-15f5-4437-8c3d-e5e05c65acd3"
      },
      "source": [
        "sum2()"
      ],
      "execution_count": 9,
      "outputs": [
        {
          "output_type": "execute_result",
          "data": {
            "text/plain": [
              "357.0955700389667"
            ]
          },
          "metadata": {
            "tags": []
          },
          "execution_count": 9
        }
      ]
    },
    {
      "cell_type": "code",
      "metadata": {
        "id": "c0CT2sKKTWCP",
        "colab_type": "code",
        "colab": {
          "base_uri": "https://localhost:8080/",
          "height": 35
        },
        "outputId": "3a41bc88-169b-4c68-b594-1033fc689222"
      },
      "source": [
        "%timeit sum2()"
      ],
      "execution_count": 10,
      "outputs": [
        {
          "output_type": "stream",
          "text": [
            "100 loops, best of 3: 2.45 ms per loop\n"
          ],
          "name": "stdout"
        }
      ]
    },
    {
      "cell_type": "markdown",
      "metadata": {
        "id": "MAcP_YnUTb61",
        "colab_type": "text"
      },
      "source": [
        "先ほどに比べると2倍くらいは早くなった"
      ]
    },
    {
      "cell_type": "code",
      "metadata": {
        "id": "uSM0_2iaTg1R",
        "colab_type": "code",
        "colab": {}
      },
      "source": [
        "def sum3():\n",
        "  #GOOD\n",
        "  return sum(l)"
      ],
      "execution_count": 0,
      "outputs": []
    },
    {
      "cell_type": "code",
      "metadata": {
        "id": "SYlmTCosTpqB",
        "colab_type": "code",
        "colab": {
          "base_uri": "https://localhost:8080/",
          "height": 35
        },
        "outputId": "4d6dda47-ba27-41d9-9b76-7d934d786faa"
      },
      "source": [
        "sum3()"
      ],
      "execution_count": 12,
      "outputs": [
        {
          "output_type": "execute_result",
          "data": {
            "text/plain": [
              "357.0955700389667"
            ]
          },
          "metadata": {
            "tags": []
          },
          "execution_count": 12
        }
      ]
    },
    {
      "cell_type": "code",
      "metadata": {
        "id": "rEEHCVi_Tr3l",
        "colab_type": "code",
        "colab": {
          "base_uri": "https://localhost:8080/",
          "height": 35
        },
        "outputId": "5c7ac950-3cb2-48c1-95c6-124a20141174"
      },
      "source": [
        "%timeit sum3()"
      ],
      "execution_count": 13,
      "outputs": [
        {
          "output_type": "stream",
          "text": [
            "1000 loops, best of 3: 485 µs per loop\n"
          ],
          "name": "stdout"
        }
      ]
    },
    {
      "cell_type": "markdown",
      "metadata": {
        "id": "2aa9SkWzTwpz",
        "colab_type": "text"
      },
      "source": [
        "このColaboratory環境で正確にどれくらい早くなったのかは計算してませんが、参考書では17倍速くなったと書いてあります"
      ]
    },
    {
      "cell_type": "markdown",
      "metadata": {
        "id": "DpnBeI4aUBZ3",
        "colab_type": "text"
      },
      "source": [
        "###文字列のリストで試してみる"
      ]
    },
    {
      "cell_type": "code",
      "metadata": {
        "id": "cphG3RHMT5A8",
        "colab_type": "code",
        "colab": {
          "base_uri": "https://localhost:8080/",
          "height": 35
        },
        "outputId": "c870b90f-4acd-4919-8bcb-4bc4bdf794b6"
      },
      "source": [
        "strings = ['%.3f' %x for x in l]\n",
        "strings[:3]"
      ],
      "execution_count": 14,
      "outputs": [
        {
          "output_type": "execute_result",
          "data": {
            "text/plain": [
              "['1.577', '-0.066', '0.072']"
            ]
          },
          "metadata": {
            "tags": []
          },
          "execution_count": 14
        }
      ]
    },
    {
      "cell_type": "code",
      "metadata": {
        "id": "QS7m9zsuUiF0",
        "colab_type": "code",
        "colab": {}
      },
      "source": [
        "def concat1():\n",
        "  #パイソニックではないダメコード\n",
        "  cat = strings[0]\n",
        "  for s in strings[1:]:\n",
        "    cat=cat+','+s\n",
        "  return cat  "
      ],
      "execution_count": 0,
      "outputs": []
    },
    {
      "cell_type": "code",
      "metadata": {
        "id": "36uVC3BuU1ST",
        "colab_type": "code",
        "colab": {
          "base_uri": "https://localhost:8080/",
          "height": 35
        },
        "outputId": "58dc5211-d417-4495-fa42-2db99f55d5e7"
      },
      "source": [
        "concat1()[:24]"
      ],
      "execution_count": 16,
      "outputs": [
        {
          "output_type": "execute_result",
          "data": {
            "text/plain": [
              "'1.577,-0.066,0.072,-0.89'"
            ]
          },
          "metadata": {
            "tags": []
          },
          "execution_count": 16
        }
      ]
    },
    {
      "cell_type": "code",
      "metadata": {
        "id": "vtdTjSfpU7dO",
        "colab_type": "code",
        "colab": {
          "base_uri": "https://localhost:8080/",
          "height": 35
        },
        "outputId": "83122191-594f-403f-8a64-77a15d696b48"
      },
      "source": [
        "%timeit concat1()"
      ],
      "execution_count": 18,
      "outputs": [
        {
          "output_type": "stream",
          "text": [
            "1 loop, best of 3: 3.92 s per loop\n"
          ],
          "name": "stdout"
        }
      ]
    },
    {
      "cell_type": "code",
      "metadata": {
        "id": "0kwOdsj0VSlN",
        "colab_type": "code",
        "colab": {}
      },
      "source": [
        "def concat2():\n",
        "  #GOOD\n",
        "  return ','.join(strings)"
      ],
      "execution_count": 0,
      "outputs": []
    },
    {
      "cell_type": "code",
      "metadata": {
        "id": "iF4d0L7AVdeN",
        "colab_type": "code",
        "colab": {
          "base_uri": "https://localhost:8080/",
          "height": 35
        },
        "outputId": "2839da4b-6ed7-4f02-cef4-848c9389455d"
      },
      "source": [
        "concat2()[:24]"
      ],
      "execution_count": 20,
      "outputs": [
        {
          "output_type": "execute_result",
          "data": {
            "text/plain": [
              "'1.577,-0.066,0.072,-0.89'"
            ]
          },
          "metadata": {
            "tags": []
          },
          "execution_count": 20
        }
      ]
    },
    {
      "cell_type": "code",
      "metadata": {
        "id": "2KY8wsdwViLk",
        "colab_type": "code",
        "colab": {
          "base_uri": "https://localhost:8080/",
          "height": 35
        },
        "outputId": "226583dc-cc8a-4c71-fa88-9737d4d5121d"
      },
      "source": [
        "%timeit concat2()"
      ],
      "execution_count": 21,
      "outputs": [
        {
          "output_type": "stream",
          "text": [
            "1000 loops, best of 3: 1.13 ms per loop\n"
          ],
          "name": "stdout"
        }
      ]
    },
    {
      "cell_type": "markdown",
      "metadata": {
        "id": "UBvtdXFPVn1p",
        "colab_type": "text"
      },
      "source": [
        "参考書では1640倍速くなったとのこと"
      ]
    },
    {
      "cell_type": "markdown",
      "metadata": {
        "id": "Wiuf5uwsXrqa",
        "colab_type": "text"
      },
      "source": [
        "###最後に、10万個の整数リストの中から、0から99の出現頻度を数える"
      ]
    },
    {
      "cell_type": "code",
      "metadata": {
        "id": "L_ueAZvfX1PI",
        "colab_type": "code",
        "colab": {}
      },
      "source": [
        "l=[random.randint(0,100) for _ in range(100000)]"
      ],
      "execution_count": 0,
      "outputs": []
    },
    {
      "cell_type": "code",
      "metadata": {
        "id": "gAFm0sFOYGnl",
        "colab_type": "code",
        "colab": {}
      },
      "source": [
        "def hist1():\n",
        "  #BAD\n",
        "  count={}\n",
        "  for x in l:\n",
        "    if x not in count:\n",
        "      count[x] = 0\n",
        "    count[x]+=1\n",
        "  return count"
      ],
      "execution_count": 0,
      "outputs": []
    },
    {
      "cell_type": "code",
      "metadata": {
        "id": "by2LSbjAYaID",
        "colab_type": "code",
        "colab": {
          "base_uri": "https://localhost:8080/",
          "height": 1000
        },
        "outputId": "ad448c8a-f52c-4db8-fce2-741018826969"
      },
      "source": [
        "hist1()"
      ],
      "execution_count": 24,
      "outputs": [
        {
          "output_type": "execute_result",
          "data": {
            "text/plain": [
              "{0: 1017,\n",
              " 1: 958,\n",
              " 2: 1036,\n",
              " 3: 991,\n",
              " 4: 1045,\n",
              " 5: 958,\n",
              " 6: 1015,\n",
              " 7: 987,\n",
              " 8: 962,\n",
              " 9: 981,\n",
              " 10: 995,\n",
              " 11: 1040,\n",
              " 12: 1035,\n",
              " 13: 1025,\n",
              " 14: 1049,\n",
              " 15: 988,\n",
              " 16: 969,\n",
              " 17: 964,\n",
              " 18: 984,\n",
              " 19: 1001,\n",
              " 20: 1013,\n",
              " 21: 961,\n",
              " 22: 956,\n",
              " 23: 987,\n",
              " 24: 994,\n",
              " 25: 1037,\n",
              " 26: 964,\n",
              " 27: 967,\n",
              " 28: 1016,\n",
              " 29: 1042,\n",
              " 30: 999,\n",
              " 31: 974,\n",
              " 32: 998,\n",
              " 33: 1051,\n",
              " 34: 980,\n",
              " 35: 990,\n",
              " 36: 974,\n",
              " 37: 953,\n",
              " 38: 987,\n",
              " 39: 924,\n",
              " 40: 967,\n",
              " 41: 1017,\n",
              " 42: 990,\n",
              " 43: 1006,\n",
              " 44: 1030,\n",
              " 45: 954,\n",
              " 46: 949,\n",
              " 47: 957,\n",
              " 48: 991,\n",
              " 49: 986,\n",
              " 50: 986,\n",
              " 51: 1008,\n",
              " 52: 1006,\n",
              " 53: 946,\n",
              " 54: 1022,\n",
              " 55: 982,\n",
              " 56: 978,\n",
              " 57: 1016,\n",
              " 58: 1013,\n",
              " 59: 986,\n",
              " 60: 966,\n",
              " 61: 908,\n",
              " 62: 1000,\n",
              " 63: 1017,\n",
              " 64: 973,\n",
              " 65: 1003,\n",
              " 66: 1023,\n",
              " 67: 1037,\n",
              " 68: 1047,\n",
              " 69: 998,\n",
              " 70: 1033,\n",
              " 71: 969,\n",
              " 72: 987,\n",
              " 73: 962,\n",
              " 74: 955,\n",
              " 75: 977,\n",
              " 76: 1041,\n",
              " 77: 985,\n",
              " 78: 917,\n",
              " 79: 945,\n",
              " 80: 985,\n",
              " 81: 970,\n",
              " 82: 1011,\n",
              " 83: 973,\n",
              " 84: 963,\n",
              " 85: 997,\n",
              " 86: 983,\n",
              " 87: 994,\n",
              " 88: 969,\n",
              " 89: 1019,\n",
              " 90: 996,\n",
              " 91: 1017,\n",
              " 92: 924,\n",
              " 93: 995,\n",
              " 94: 962,\n",
              " 95: 979,\n",
              " 96: 949,\n",
              " 97: 999,\n",
              " 98: 1001,\n",
              " 99: 1023,\n",
              " 100: 991}"
            ]
          },
          "metadata": {
            "tags": []
          },
          "execution_count": 24
        }
      ]
    },
    {
      "cell_type": "code",
      "metadata": {
        "id": "gmbXxrg0Yf4l",
        "colab_type": "code",
        "colab": {
          "base_uri": "https://localhost:8080/",
          "height": 35
        },
        "outputId": "0a668f53-bb60-4f29-dc38-803a487dd140"
      },
      "source": [
        "%timeit hist1()"
      ],
      "execution_count": 25,
      "outputs": [
        {
          "output_type": "stream",
          "text": [
            "100 loops, best of 3: 9.94 ms per loop\n"
          ],
          "name": "stdout"
        }
      ]
    },
    {
      "cell_type": "markdown",
      "metadata": {
        "id": "WoWzNFRzYrO2",
        "colab_type": "text"
      },
      "source": [
        "Pythonには辞書キーを自動的に作り出すdefaultdict structureがあることに気づく"
      ]
    },
    {
      "cell_type": "code",
      "metadata": {
        "id": "TVcYw3Z4Y1-O",
        "colab_type": "code",
        "colab": {}
      },
      "source": [
        "from collections import defaultdict"
      ],
      "execution_count": 0,
      "outputs": []
    },
    {
      "cell_type": "code",
      "metadata": {
        "id": "T_9e-RvOY5Ye",
        "colab_type": "code",
        "colab": {}
      },
      "source": [
        "def hist2():\n",
        "  #BETTER\n",
        "  count = defaultdict(int)\n",
        "  for x in l:\n",
        "    count[x]+=1\n",
        "  return count"
      ],
      "execution_count": 0,
      "outputs": []
    },
    {
      "cell_type": "code",
      "metadata": {
        "id": "ai1hFIiFZF0Y",
        "colab_type": "code",
        "colab": {
          "base_uri": "https://localhost:8080/",
          "height": 1000
        },
        "outputId": "fed73bfe-6cb6-4fd2-bd02-10936ff0decb"
      },
      "source": [
        "hist2()"
      ],
      "execution_count": 28,
      "outputs": [
        {
          "output_type": "execute_result",
          "data": {
            "text/plain": [
              "defaultdict(int,\n",
              "            {0: 1017,\n",
              "             1: 958,\n",
              "             2: 1036,\n",
              "             3: 991,\n",
              "             4: 1045,\n",
              "             5: 958,\n",
              "             6: 1015,\n",
              "             7: 987,\n",
              "             8: 962,\n",
              "             9: 981,\n",
              "             10: 995,\n",
              "             11: 1040,\n",
              "             12: 1035,\n",
              "             13: 1025,\n",
              "             14: 1049,\n",
              "             15: 988,\n",
              "             16: 969,\n",
              "             17: 964,\n",
              "             18: 984,\n",
              "             19: 1001,\n",
              "             20: 1013,\n",
              "             21: 961,\n",
              "             22: 956,\n",
              "             23: 987,\n",
              "             24: 994,\n",
              "             25: 1037,\n",
              "             26: 964,\n",
              "             27: 967,\n",
              "             28: 1016,\n",
              "             29: 1042,\n",
              "             30: 999,\n",
              "             31: 974,\n",
              "             32: 998,\n",
              "             33: 1051,\n",
              "             34: 980,\n",
              "             35: 990,\n",
              "             36: 974,\n",
              "             37: 953,\n",
              "             38: 987,\n",
              "             39: 924,\n",
              "             40: 967,\n",
              "             41: 1017,\n",
              "             42: 990,\n",
              "             43: 1006,\n",
              "             44: 1030,\n",
              "             45: 954,\n",
              "             46: 949,\n",
              "             47: 957,\n",
              "             48: 991,\n",
              "             49: 986,\n",
              "             50: 986,\n",
              "             51: 1008,\n",
              "             52: 1006,\n",
              "             53: 946,\n",
              "             54: 1022,\n",
              "             55: 982,\n",
              "             56: 978,\n",
              "             57: 1016,\n",
              "             58: 1013,\n",
              "             59: 986,\n",
              "             60: 966,\n",
              "             61: 908,\n",
              "             62: 1000,\n",
              "             63: 1017,\n",
              "             64: 973,\n",
              "             65: 1003,\n",
              "             66: 1023,\n",
              "             67: 1037,\n",
              "             68: 1047,\n",
              "             69: 998,\n",
              "             70: 1033,\n",
              "             71: 969,\n",
              "             72: 987,\n",
              "             73: 962,\n",
              "             74: 955,\n",
              "             75: 977,\n",
              "             76: 1041,\n",
              "             77: 985,\n",
              "             78: 917,\n",
              "             79: 945,\n",
              "             80: 985,\n",
              "             81: 970,\n",
              "             82: 1011,\n",
              "             83: 973,\n",
              "             84: 963,\n",
              "             85: 997,\n",
              "             86: 983,\n",
              "             87: 994,\n",
              "             88: 969,\n",
              "             89: 1019,\n",
              "             90: 996,\n",
              "             91: 1017,\n",
              "             92: 924,\n",
              "             93: 995,\n",
              "             94: 962,\n",
              "             95: 979,\n",
              "             96: 949,\n",
              "             97: 999,\n",
              "             98: 1001,\n",
              "             99: 1023,\n",
              "             100: 991})"
            ]
          },
          "metadata": {
            "tags": []
          },
          "execution_count": 28
        }
      ]
    },
    {
      "cell_type": "code",
      "metadata": {
        "id": "NNsjt36qZKM-",
        "colab_type": "code",
        "colab": {
          "base_uri": "https://localhost:8080/",
          "height": 35
        },
        "outputId": "2474660d-b01f-4136-f104-9a3c74570718"
      },
      "source": [
        "%timeit hist2()"
      ],
      "execution_count": 29,
      "outputs": [
        {
          "output_type": "stream",
          "text": [
            "100 loops, best of 3: 7.63 ms per loop\n"
          ],
          "name": "stdout"
        }
      ]
    },
    {
      "cell_type": "markdown",
      "metadata": {
        "id": "iNGCYhs7ZPba",
        "colab_type": "text"
      },
      "source": [
        "少し早くなる"
      ]
    },
    {
      "cell_type": "markdown",
      "metadata": {
        "id": "jOYlR2cbZSlN",
        "colab_type": "text"
      },
      "source": [
        "ついに、まさしく私たちが求めているCounter classを提供してくれる組み込みコレクションがあることに気づく"
      ]
    },
    {
      "cell_type": "code",
      "metadata": {
        "id": "ZRY8V3cCZhRy",
        "colab_type": "code",
        "colab": {}
      },
      "source": [
        "from collections import Counter"
      ],
      "execution_count": 0,
      "outputs": []
    },
    {
      "cell_type": "code",
      "metadata": {
        "id": "gSSqVc0GZlaZ",
        "colab_type": "code",
        "colab": {}
      },
      "source": [
        "def hist3():\n",
        "  #GOOD\n",
        "  return Counter(l)"
      ],
      "execution_count": 0,
      "outputs": []
    },
    {
      "cell_type": "code",
      "metadata": {
        "id": "WljQCnsXZrb0",
        "colab_type": "code",
        "colab": {
          "base_uri": "https://localhost:8080/",
          "height": 1000
        },
        "outputId": "a03df342-6dba-44be-feb1-f2bc146a458b"
      },
      "source": [
        "hist3()"
      ],
      "execution_count": 32,
      "outputs": [
        {
          "output_type": "execute_result",
          "data": {
            "text/plain": [
              "Counter({0: 1017,\n",
              "         1: 958,\n",
              "         2: 1036,\n",
              "         3: 991,\n",
              "         4: 1045,\n",
              "         5: 958,\n",
              "         6: 1015,\n",
              "         7: 987,\n",
              "         8: 962,\n",
              "         9: 981,\n",
              "         10: 995,\n",
              "         11: 1040,\n",
              "         12: 1035,\n",
              "         13: 1025,\n",
              "         14: 1049,\n",
              "         15: 988,\n",
              "         16: 969,\n",
              "         17: 964,\n",
              "         18: 984,\n",
              "         19: 1001,\n",
              "         20: 1013,\n",
              "         21: 961,\n",
              "         22: 956,\n",
              "         23: 987,\n",
              "         24: 994,\n",
              "         25: 1037,\n",
              "         26: 964,\n",
              "         27: 967,\n",
              "         28: 1016,\n",
              "         29: 1042,\n",
              "         30: 999,\n",
              "         31: 974,\n",
              "         32: 998,\n",
              "         33: 1051,\n",
              "         34: 980,\n",
              "         35: 990,\n",
              "         36: 974,\n",
              "         37: 953,\n",
              "         38: 987,\n",
              "         39: 924,\n",
              "         40: 967,\n",
              "         41: 1017,\n",
              "         42: 990,\n",
              "         43: 1006,\n",
              "         44: 1030,\n",
              "         45: 954,\n",
              "         46: 949,\n",
              "         47: 957,\n",
              "         48: 991,\n",
              "         49: 986,\n",
              "         50: 986,\n",
              "         51: 1008,\n",
              "         52: 1006,\n",
              "         53: 946,\n",
              "         54: 1022,\n",
              "         55: 982,\n",
              "         56: 978,\n",
              "         57: 1016,\n",
              "         58: 1013,\n",
              "         59: 986,\n",
              "         60: 966,\n",
              "         61: 908,\n",
              "         62: 1000,\n",
              "         63: 1017,\n",
              "         64: 973,\n",
              "         65: 1003,\n",
              "         66: 1023,\n",
              "         67: 1037,\n",
              "         68: 1047,\n",
              "         69: 998,\n",
              "         70: 1033,\n",
              "         71: 969,\n",
              "         72: 987,\n",
              "         73: 962,\n",
              "         74: 955,\n",
              "         75: 977,\n",
              "         76: 1041,\n",
              "         77: 985,\n",
              "         78: 917,\n",
              "         79: 945,\n",
              "         80: 985,\n",
              "         81: 970,\n",
              "         82: 1011,\n",
              "         83: 973,\n",
              "         84: 963,\n",
              "         85: 997,\n",
              "         86: 983,\n",
              "         87: 994,\n",
              "         88: 969,\n",
              "         89: 1019,\n",
              "         90: 996,\n",
              "         91: 1017,\n",
              "         92: 924,\n",
              "         93: 995,\n",
              "         94: 962,\n",
              "         95: 979,\n",
              "         96: 949,\n",
              "         97: 999,\n",
              "         98: 1001,\n",
              "         99: 1023,\n",
              "         100: 991})"
            ]
          },
          "metadata": {
            "tags": []
          },
          "execution_count": 32
        }
      ]
    },
    {
      "cell_type": "code",
      "metadata": {
        "id": "TMwenEhqZtEP",
        "colab_type": "code",
        "colab": {
          "base_uri": "https://localhost:8080/",
          "height": 35
        },
        "outputId": "39a12c0b-7579-4187-f001-5023f7cf8404"
      },
      "source": [
        "%timeit hist3()"
      ],
      "execution_count": 33,
      "outputs": [
        {
          "output_type": "stream",
          "text": [
            "100 loops, best of 3: 4.94 ms per loop\n"
          ],
          "name": "stdout"
        }
      ]
    },
    {
      "cell_type": "markdown",
      "metadata": {
        "id": "mKpZJtJEZwj2",
        "colab_type": "text"
      },
      "source": [
        "最初のバージョンよりも2倍速くなった"
      ]
    }
  ]
}