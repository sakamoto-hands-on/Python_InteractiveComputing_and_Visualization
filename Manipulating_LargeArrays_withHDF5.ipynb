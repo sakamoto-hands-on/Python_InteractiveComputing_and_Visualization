{
  "nbformat": 4,
  "nbformat_minor": 0,
  "metadata": {
    "colab": {
      "name": "Manipulating_LargeArrays_withHDF5.ipynb",
      "provenance": [],
      "collapsed_sections": [],
      "authorship_tag": "ABX9TyOls8zw2xb9uGC6N6Z99JL4",
      "include_colab_link": true
    },
    "kernelspec": {
      "name": "python3",
      "display_name": "Python 3"
    }
  },
  "cells": [
    {
      "cell_type": "markdown",
      "metadata": {
        "id": "view-in-github",
        "colab_type": "text"
      },
      "source": [
        "<a href=\"https://colab.research.google.com/github/sakamoto-hands-on/Python_InteractiveComputing_and_Visualization/blob/master/Manipulating_LargeArrays_withHDF5.ipynb\" target=\"_parent\"><img src=\"https://colab.research.google.com/assets/colab-badge.svg\" alt=\"Open In Colab\"/></a>"
      ]
    },
    {
      "cell_type": "markdown",
      "metadata": {
        "id": "_-TIz9bzZP8P",
        "colab_type": "text"
      },
      "source": [
        "# 必要なライブラリをインポートし、実験開始！"
      ]
    },
    {
      "cell_type": "code",
      "metadata": {
        "id": "WjElnYHVVZ8S",
        "colab_type": "code",
        "colab": {}
      },
      "source": [
        "import numpy as np"
      ],
      "execution_count": 0,
      "outputs": []
    },
    {
      "cell_type": "code",
      "metadata": {
        "id": "h--IVdR0VnGz",
        "colab_type": "code",
        "colab": {}
      },
      "source": [
        "import h5py"
      ],
      "execution_count": 0,
      "outputs": []
    },
    {
      "cell_type": "markdown",
      "metadata": {
        "id": "4iAgVpJRYHO9",
        "colab_type": "text"
      },
      "source": [
        "編集モードでHDF5ファイルを作成"
      ]
    },
    {
      "cell_type": "code",
      "metadata": {
        "id": "zRbMiaOWVvEi",
        "colab_type": "code",
        "colab": {}
      },
      "source": [
        "f = h5py.File('myfile.h5','w')"
      ],
      "execution_count": 0,
      "outputs": []
    },
    {
      "cell_type": "markdown",
      "metadata": {
        "id": "eYubXux4YZF8",
        "colab_type": "text"
      },
      "source": [
        "最上位のグループを「experiment1」という名前で作成"
      ]
    },
    {
      "cell_type": "code",
      "metadata": {
        "id": "sFQTOXdqV_qd",
        "colab_type": "code",
        "colab": {
          "base_uri": "https://localhost:8080/",
          "height": 35
        },
        "outputId": "0d91c472-dbae-4e75-cc11-1b62e016ac7e"
      },
      "source": [
        "f.create_group('/experiment1')"
      ],
      "execution_count": 5,
      "outputs": [
        {
          "output_type": "execute_result",
          "data": {
            "text/plain": [
              "<HDF5 group \"/experiment1\" (0 members)>"
            ]
          },
          "metadata": {
            "tags": []
          },
          "execution_count": 5
        }
      ]
    },
    {
      "cell_type": "markdown",
      "metadata": {
        "id": "NH-gsCRuYgdq",
        "colab_type": "text"
      },
      "source": [
        "このグループにメタデータを追加"
      ]
    },
    {
      "cell_type": "code",
      "metadata": {
        "id": "l-dWRvk8WFb8",
        "colab_type": "code",
        "colab": {}
      },
      "source": [
        "f['experiment1'].attrs['date'] = '2018-01-01'"
      ],
      "execution_count": 0,
      "outputs": []
    },
    {
      "cell_type": "markdown",
      "metadata": {
        "id": "XfNn16g5Ypyf",
        "colab_type": "text"
      },
      "source": [
        "このグループのなかに、1000*1000のArrayを作成"
      ]
    },
    {
      "cell_type": "code",
      "metadata": {
        "id": "cc3wAy-DWRko",
        "colab_type": "code",
        "colab": {
          "base_uri": "https://localhost:8080/",
          "height": 35
        },
        "outputId": "0b0a22a9-8b6b-42cb-a3db-4e6e35ff5e3b"
      },
      "source": [
        "x = np.random.rand(1000,1000)\n",
        "f['experiment1'].create_dataset('array1',data=x)"
      ],
      "execution_count": 8,
      "outputs": [
        {
          "output_type": "execute_result",
          "data": {
            "text/plain": [
              "<HDF5 dataset \"array1\": shape (1000, 1000), type \"<f8\">"
            ]
          },
          "metadata": {
            "tags": []
          },
          "execution_count": 8
        }
      ]
    },
    {
      "cell_type": "code",
      "metadata": {
        "id": "tNTDG1TxWYKb",
        "colab_type": "code",
        "colab": {}
      },
      "source": [
        "f.close()"
      ],
      "execution_count": 0,
      "outputs": []
    },
    {
      "cell_type": "markdown",
      "metadata": {
        "id": "ZOobo3xBY6xL",
        "colab_type": "text"
      },
      "source": [
        "# 一度閉じたファイルを読み取りモードで開く\n",
        "HDF5ファイルとして保存していたので、別のセッションからでも開くことができる"
      ]
    },
    {
      "cell_type": "code",
      "metadata": {
        "id": "mY5QC4VpWvYG",
        "colab_type": "code",
        "colab": {}
      },
      "source": [
        "f=h5py.File('myfile.h5','r')"
      ],
      "execution_count": 0,
      "outputs": []
    },
    {
      "cell_type": "code",
      "metadata": {
        "id": "D6XO7iV-W90a",
        "colab_type": "code",
        "colab": {
          "base_uri": "https://localhost:8080/",
          "height": 35
        },
        "outputId": "1c120326-9300-47d2-eddc-c936d1830976"
      },
      "source": [
        "f['/experiment1'].attrs['date']"
      ],
      "execution_count": 13,
      "outputs": [
        {
          "output_type": "execute_result",
          "data": {
            "text/plain": [
              "'2018-01-01'"
            ]
          },
          "metadata": {
            "tags": []
          },
          "execution_count": 13
        }
      ]
    },
    {
      "cell_type": "code",
      "metadata": {
        "id": "lnhiiKp4XfLL",
        "colab_type": "code",
        "colab": {
          "base_uri": "https://localhost:8080/",
          "height": 35
        },
        "outputId": "d60ea9fc-8ec2-40ae-a200-730c6c631dd5"
      },
      "source": [
        "y=f['/experiment1/array1']\n",
        "type(y)"
      ],
      "execution_count": 16,
      "outputs": [
        {
          "output_type": "execute_result",
          "data": {
            "text/plain": [
              "h5py._hl.dataset.Dataset"
            ]
          },
          "metadata": {
            "tags": []
          },
          "execution_count": 16
        }
      ]
    },
    {
      "cell_type": "markdown",
      "metadata": {
        "id": "IavR2ffnYEzo",
        "colab_type": "text"
      },
      "source": [
        "このArrayはNumpy Arrayで使うことができる。\n",
        "重要な点として、このArrayはシステムメモリーではなく、ディスクに保存されているのだ。計算を実行するさいに、このArrayは自動的に要求されたArrayセクションをメモリーにロードする、したがって、より効率的にArray viewにだけアクセスできる"
      ]
    },
    {
      "cell_type": "code",
      "metadata": {
        "id": "1PWTYSmAXykV",
        "colab_type": "code",
        "colab": {
          "base_uri": "https://localhost:8080/",
          "height": 35
        },
        "outputId": "0edd170e-3a17-47fb-ca0a-9ec12fd02aea"
      },
      "source": [
        "np.array_equal(x[0,:],y[0,:])"
      ],
      "execution_count": 17,
      "outputs": [
        {
          "output_type": "execute_result",
          "data": {
            "text/plain": [
              "True"
            ]
          },
          "metadata": {
            "tags": []
          },
          "execution_count": 17
        }
      ]
    }
  ]
}