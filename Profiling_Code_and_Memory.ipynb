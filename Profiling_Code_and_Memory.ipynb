{
  "nbformat": 4,
  "nbformat_minor": 0,
  "metadata": {
    "colab": {
      "name": "Profiling_Code_and_Memory.ipynb",
      "provenance": [],
      "collapsed_sections": [],
      "include_colab_link": true
    },
    "kernelspec": {
      "name": "python3",
      "display_name": "Python 3"
    }
  },
  "cells": [
    {
      "cell_type": "markdown",
      "metadata": {
        "id": "view-in-github",
        "colab_type": "text"
      },
      "source": [
        "<a href=\"https://colab.research.google.com/github/sakamoto-hands-on/Python_InteractiveComputing_and_Visualization/blob/master/Profiling_Code_and_Memory.ipynb\" target=\"_parent\"><img src=\"https://colab.research.google.com/assets/colab-badge.svg\" alt=\"Open In Colab\"/></a>"
      ]
    },
    {
      "cell_type": "markdown",
      "metadata": {
        "id": "ouk54sEnHmqI",
        "colab_type": "text"
      },
      "source": [
        "# Profiling the code with cProfile"
      ]
    },
    {
      "cell_type": "code",
      "metadata": {
        "id": "Gq1pKYeIqr4D",
        "colab_type": "code",
        "colab": {}
      },
      "source": [
        "n = 100000"
      ],
      "execution_count": 0,
      "outputs": []
    },
    {
      "cell_type": "markdown",
      "metadata": {
        "id": "U3yY5ItPr79R",
        "colab_type": "text"
      },
      "source": [
        "### Python標準の「sum」とNumPyを比較"
      ]
    },
    {
      "cell_type": "code",
      "metadata": {
        "id": "yhj5RotBq5r2",
        "colab_type": "code",
        "outputId": "26bd4b43-d6a6-478c-d7cf-92c5a24c3778",
        "colab": {
          "base_uri": "https://localhost:8080/",
          "height": 35
        }
      },
      "source": [
        "%timeit sum([1./i**2 for i in range(1,n)])"
      ],
      "execution_count": 2,
      "outputs": [
        {
          "output_type": "stream",
          "text": [
            "10 loops, best of 3: 32.6 ms per loop\n"
          ],
          "name": "stdout"
        }
      ]
    },
    {
      "cell_type": "code",
      "metadata": {
        "id": "X9niQBY2rHLw",
        "colab_type": "code",
        "outputId": "5e32718f-6dd0-4d86-cea9-9297cf9e7d85",
        "colab": {
          "base_uri": "https://localhost:8080/",
          "height": 35
        }
      },
      "source": [
        "%%timeit s=0.\n",
        "for i in range(1,n):\n",
        "  s+=1./i**2"
      ],
      "execution_count": 3,
      "outputs": [
        {
          "output_type": "stream",
          "text": [
            "10 loops, best of 3: 30.5 ms per loop\n"
          ],
          "name": "stdout"
        }
      ]
    },
    {
      "cell_type": "code",
      "metadata": {
        "id": "6D_R4VhArYe_",
        "colab_type": "code",
        "colab": {}
      },
      "source": [
        "import numpy as np"
      ],
      "execution_count": 0,
      "outputs": []
    },
    {
      "cell_type": "code",
      "metadata": {
        "id": "Jdd_e9Xyrb72",
        "colab_type": "code",
        "outputId": "e8540695-4f8d-4689-c2bc-d1ceb5d8f07b",
        "colab": {
          "base_uri": "https://localhost:8080/",
          "height": 54
        }
      },
      "source": [
        "%timeit np.sum(1./np.arange(1.,n)**2)"
      ],
      "execution_count": 5,
      "outputs": [
        {
          "output_type": "stream",
          "text": [
            "The slowest run took 7.64 times longer than the fastest. This could mean that an intermediate result is being cached.\n",
            "1000 loops, best of 3: 770 µs per loop\n"
          ],
          "name": "stdout"
        }
      ]
    },
    {
      "cell_type": "markdown",
      "metadata": {
        "id": "EtINQjVnsCr5",
        "colab_type": "text"
      },
      "source": [
        "わたしが参照しているテキストでは137倍の速度が出ていると書かれている。Colaboratory上ではおよそ50倍かな？"
      ]
    },
    {
      "cell_type": "markdown",
      "metadata": {
        "id": "iTcW3rQGsV_s",
        "colab_type": "text"
      },
      "source": [
        "\n",
        "\n",
        "---\n",
        "\n"
      ]
    },
    {
      "cell_type": "markdown",
      "metadata": {
        "id": "H941A7BHzN4z",
        "colab_type": "text"
      },
      "source": [
        "### %prun magic commandを使って、詳細なレポートを作成"
      ]
    },
    {
      "cell_type": "code",
      "metadata": {
        "id": "mipdVrcws4KP",
        "colab_type": "code",
        "colab": {}
      },
      "source": [
        "def step(*shape):\n",
        "  return 2*(np.random.random_sample(shape)<.5)-1"
      ],
      "execution_count": 0,
      "outputs": []
    },
    {
      "cell_type": "code",
      "metadata": {
        "id": "eM4V2-MttGKA",
        "colab_type": "code",
        "outputId": "c8c26d40-d558-43c3-ae15-fab8a76ff83e",
        "colab": {
          "base_uri": "https://localhost:8080/",
          "height": 54
        }
      },
      "source": [
        "%%prun -s cumulative -q -l 10 -T prun0\n",
        "n=10000\n",
        "iterations=50\n",
        "x=np.cumsum(step(iterations,n),axis=0)\n",
        "bins=np.arange(-30,30,1)\n",
        "y=np.vstack([np.histogram(x[i,:],bins)[0] for i in range(iterations)])"
      ],
      "execution_count": 7,
      "outputs": [
        {
          "output_type": "stream",
          "text": [
            " \n",
            "*** Profile printout saved to text file 'prun0'. \n"
          ],
          "name": "stdout"
        }
      ]
    },
    {
      "cell_type": "code",
      "metadata": {
        "id": "LimNO3Cft9PR",
        "colab_type": "code",
        "outputId": "aa4c0af0-ede2-4788-ff16-f8f0beece053",
        "colab": {
          "base_uri": "https://localhost:8080/",
          "height": 308
        }
      },
      "source": [
        "print(open('prun0','r').read())"
      ],
      "execution_count": 8,
      "outputs": [
        {
          "output_type": "stream",
          "text": [
            "         2829 function calls (2527 primitive calls) in 0.041 seconds\n",
            "\n",
            "   Ordered by: cumulative time\n",
            "   List reduced from 58 to 10 due to restriction <10>\n",
            "\n",
            "   ncalls  tottime  percall  cumtime  percall filename:lineno(function)\n",
            "        1    0.000    0.000    0.041    0.041 {built-in method builtins.exec}\n",
            "        1    0.000    0.000    0.040    0.040 <string>:2(<module>)\n",
            "   354/52    0.000    0.000    0.022    0.000 {built-in method numpy.core._multiarray_umath.implement_array_function}\n",
            "        1    0.007    0.007    0.018    0.018 <ipython-input-6-1ea381f77015>:1(step)\n",
            "        1    0.000    0.000    0.018    0.018 <string>:6(<listcomp>)\n",
            "       50    0.000    0.000    0.018    0.000 <__array_function__ internals>:2(histogram)\n",
            "       50    0.001    0.000    0.018    0.000 histograms.py:680(histogram)\n",
            "       50    0.000    0.000    0.015    0.000 <__array_function__ internals>:2(sort)\n",
            "       50    0.000    0.000    0.015    0.000 fromnumeric.py:826(sort)\n",
            "       50    0.014    0.000    0.014    0.000 {method 'sort' of 'numpy.ndarray' objects}\n"
          ],
          "name": "stdout"
        }
      ]
    },
    {
      "cell_type": "markdown",
      "metadata": {
        "id": "n_4aea7LzVlJ",
        "colab_type": "text"
      },
      "source": [
        "\n",
        "\n",
        "---\n",
        "\n"
      ]
    },
    {
      "cell_type": "markdown",
      "metadata": {
        "id": "2aDTr8nlAHtS",
        "colab_type": "text"
      },
      "source": [
        "# Profiling the code line by line"
      ]
    },
    {
      "cell_type": "code",
      "metadata": {
        "id": "WxWbYkWVAkPj",
        "colab_type": "code",
        "outputId": "ab871404-749f-4a3e-b73e-8f64cc1b4451",
        "colab": {
          "base_uri": "https://localhost:8080/",
          "height": 455
        }
      },
      "source": [
        "pip install line-profiler"
      ],
      "execution_count": 9,
      "outputs": [
        {
          "output_type": "stream",
          "text": [
            "Collecting line-profiler\n",
            "\u001b[?25l  Downloading https://files.pythonhosted.org/packages/14/fc/ecf4e238bb601ff829068e5a72cd1bd67b0ee0ae379db172eb6a0779c6b6/line_profiler-2.1.2.tar.gz (83kB)\n",
            "\r\u001b[K     |████                            | 10kB 20.8MB/s eta 0:00:01\r\u001b[K     |███████▉                        | 20kB 3.3MB/s eta 0:00:01\r\u001b[K     |███████████▉                    | 30kB 4.7MB/s eta 0:00:01\r\u001b[K     |███████████████▊                | 40kB 3.1MB/s eta 0:00:01\r\u001b[K     |███████████████████▊            | 51kB 3.8MB/s eta 0:00:01\r\u001b[K     |███████████████████████▋        | 61kB 4.5MB/s eta 0:00:01\r\u001b[K     |███████████████████████████▋    | 71kB 5.1MB/s eta 0:00:01\r\u001b[K     |███████████████████████████████▌| 81kB 5.8MB/s eta 0:00:01\r\u001b[K     |████████████████████████████████| 92kB 4.5MB/s \n",
            "\u001b[?25hRequirement already satisfied: IPython>=0.13 in /usr/local/lib/python3.6/dist-packages (from line-profiler) (5.5.0)\n",
            "Requirement already satisfied: traitlets>=4.2 in /usr/local/lib/python3.6/dist-packages (from IPython>=0.13->line-profiler) (4.3.3)\n",
            "Requirement already satisfied: simplegeneric>0.8 in /usr/local/lib/python3.6/dist-packages (from IPython>=0.13->line-profiler) (0.8.1)\n",
            "Requirement already satisfied: setuptools>=18.5 in /usr/local/lib/python3.6/dist-packages (from IPython>=0.13->line-profiler) (42.0.2)\n",
            "Requirement already satisfied: decorator in /usr/local/lib/python3.6/dist-packages (from IPython>=0.13->line-profiler) (4.4.1)\n",
            "Requirement already satisfied: prompt-toolkit<2.0.0,>=1.0.4 in /usr/local/lib/python3.6/dist-packages (from IPython>=0.13->line-profiler) (1.0.18)\n",
            "Requirement already satisfied: pickleshare in /usr/local/lib/python3.6/dist-packages (from IPython>=0.13->line-profiler) (0.7.5)\n",
            "Requirement already satisfied: pexpect; sys_platform != \"win32\" in /usr/local/lib/python3.6/dist-packages (from IPython>=0.13->line-profiler) (4.7.0)\n",
            "Requirement already satisfied: pygments in /usr/local/lib/python3.6/dist-packages (from IPython>=0.13->line-profiler) (2.1.3)\n",
            "Requirement already satisfied: ipython-genutils in /usr/local/lib/python3.6/dist-packages (from traitlets>=4.2->IPython>=0.13->line-profiler) (0.2.0)\n",
            "Requirement already satisfied: six in /usr/local/lib/python3.6/dist-packages (from traitlets>=4.2->IPython>=0.13->line-profiler) (1.12.0)\n",
            "Requirement already satisfied: wcwidth in /usr/local/lib/python3.6/dist-packages (from prompt-toolkit<2.0.0,>=1.0.4->IPython>=0.13->line-profiler) (0.1.7)\n",
            "Requirement already satisfied: ptyprocess>=0.5 in /usr/local/lib/python3.6/dist-packages (from pexpect; sys_platform != \"win32\"->IPython>=0.13->line-profiler) (0.6.0)\n",
            "Building wheels for collected packages: line-profiler\n",
            "  Building wheel for line-profiler (setup.py) ... \u001b[?25l\u001b[?25hdone\n",
            "  Created wheel for line-profiler: filename=line_profiler-2.1.2-cp36-cp36m-linux_x86_64.whl size=180886 sha256=148d33829455d8d4c2d4158ba14da25cd24263182425bda71027c051022b99b1\n",
            "  Stored in directory: /root/.cache/pip/wheels/05/7d/9b/aafbe8d78dc2b2c644d2efd2f060ab3258143860142575193a\n",
            "Successfully built line-profiler\n",
            "Installing collected packages: line-profiler\n",
            "Successfully installed line-profiler-2.1.2\n"
          ],
          "name": "stdout"
        }
      ]
    },
    {
      "cell_type": "code",
      "metadata": {
        "id": "C5IB8mFTAOeG",
        "colab_type": "code",
        "colab": {}
      },
      "source": [
        "import numpy as np\n",
        "%load_ext line_profiler"
      ],
      "execution_count": 0,
      "outputs": []
    },
    {
      "cell_type": "code",
      "metadata": {
        "id": "7msVCbgSA3qb",
        "colab_type": "code",
        "outputId": "485b780a-d06f-40c0-c693-34e4b3fe3e0f",
        "colab": {
          "base_uri": "https://localhost:8080/",
          "height": 35
        }
      },
      "source": [
        "%%writefile simulation01.py\n",
        "import numpy as np\n",
        "\n",
        "def step(*shape):\n",
        "  return 2*(np.random.random_sample(shape)<.5)-1\n",
        "\n",
        "def simulate(iterations,n=10000):\n",
        "  s=step(iterations,n)\n",
        "  x=np.cumsum(s,axis=0)\n",
        "  bins=np.arange(-30,30,1)\n",
        "  y=np.vstack([np.histogram(x[i,:],bins)[0] for i in range(iterations)])\n",
        "  return y"
      ],
      "execution_count": 11,
      "outputs": [
        {
          "output_type": "stream",
          "text": [
            "Writing simulation01.py\n"
          ],
          "name": "stdout"
        }
      ]
    },
    {
      "cell_type": "code",
      "metadata": {
        "id": "9Xeown9eCXwJ",
        "colab_type": "code",
        "outputId": "ba490865-a161-4d41-bb6d-a0a37e3098b7",
        "colab": {
          "base_uri": "https://localhost:8080/",
          "height": 35
        }
      },
      "source": [
        "%ls"
      ],
      "execution_count": 12,
      "outputs": [
        {
          "output_type": "stream",
          "text": [
            "prun0  \u001b[0m\u001b[01;34msample_data\u001b[0m/  simulation01.py\n"
          ],
          "name": "stdout"
        }
      ]
    },
    {
      "cell_type": "code",
      "metadata": {
        "id": "gJ8v5D3eB1cv",
        "colab_type": "code",
        "colab": {}
      },
      "source": [
        "from simulation01 import simulate"
      ],
      "execution_count": 0,
      "outputs": []
    },
    {
      "cell_type": "code",
      "metadata": {
        "id": "tKiyH507Cntl",
        "colab_type": "code",
        "outputId": "8a5ed299-ba85-4544-d9fc-f3f249441d59",
        "colab": {
          "base_uri": "https://localhost:8080/",
          "height": 54
        }
      },
      "source": [
        "%lprun -T lprof0 -f simulate simulate(50)"
      ],
      "execution_count": 14,
      "outputs": [
        {
          "output_type": "stream",
          "text": [
            "\n",
            "*** Profile printout saved to text file 'lprof0'. \n"
          ],
          "name": "stdout"
        }
      ]
    },
    {
      "cell_type": "markdown",
      "metadata": {
        "id": "4_He6rerHt-Z",
        "colab_type": "text"
      },
      "source": [
        "\n",
        "\n",
        "---\n",
        "\n"
      ]
    },
    {
      "cell_type": "markdown",
      "metadata": {
        "id": "TNiFK5h_j7GK",
        "colab_type": "text"
      },
      "source": [
        "# Profiling memory usage"
      ]
    },
    {
      "cell_type": "code",
      "metadata": {
        "id": "3iWo1nIokHcl",
        "colab_type": "code",
        "colab": {
          "base_uri": "https://localhost:8080/",
          "height": 217
        },
        "outputId": "dcb092f1-b335-4a39-df69-87a65f43bd70"
      },
      "source": [
        "pip install memory_profiler"
      ],
      "execution_count": 16,
      "outputs": [
        {
          "output_type": "stream",
          "text": [
            "Collecting memory_profiler\n",
            "\u001b[?25l  Downloading https://files.pythonhosted.org/packages/9f/fe/1fca7273dd111108f204a686b12a12b6422d405fe4614087aa7d5a66ea87/memory_profiler-0.55.0.tar.gz (40kB)\n",
            "\r\u001b[K     |████████                        | 10kB 20.8MB/s eta 0:00:01\r\u001b[K     |████████████████                | 20kB 3.3MB/s eta 0:00:01\r\u001b[K     |████████████████████████        | 30kB 4.7MB/s eta 0:00:01\r\u001b[K     |████████████████████████████████| 40kB 3.3MB/s \n",
            "\u001b[?25hRequirement already satisfied: psutil in /usr/local/lib/python3.6/dist-packages (from memory_profiler) (5.4.8)\n",
            "Building wheels for collected packages: memory-profiler\n",
            "  Building wheel for memory-profiler (setup.py) ... \u001b[?25l\u001b[?25hdone\n",
            "  Created wheel for memory-profiler: filename=memory_profiler-0.55.0-cp36-none-any.whl size=27174 sha256=08b85808527eb177ae0d0236a0093d737ad7c90ec94f3352a5616553582838c1\n",
            "  Stored in directory: /root/.cache/pip/wheels/f0/ff/63/fdbff3f1e1b76ad4eae491dd5b190902906b093e93eb86dd5a\n",
            "Successfully built memory-profiler\n",
            "Installing collected packages: memory-profiler\n",
            "Successfully installed memory-profiler-0.55.0\n"
          ],
          "name": "stdout"
        }
      ]
    },
    {
      "cell_type": "code",
      "metadata": {
        "id": "ksiDBwbxj-pJ",
        "colab_type": "code",
        "colab": {}
      },
      "source": [
        "%load_ext memory_profiler"
      ],
      "execution_count": 0,
      "outputs": []
    },
    {
      "cell_type": "code",
      "metadata": {
        "id": "tEzc8vWHkON-",
        "colab_type": "code",
        "colab": {
          "base_uri": "https://localhost:8080/",
          "height": 35
        },
        "outputId": "a083c8d2-7dab-4b87-cef8-a3650524e5a2"
      },
      "source": [
        "%%writefile memscript.py\n",
        "def my_func():\n",
        "  a=[1]*1000000\n",
        "  b=[2]*9000000\n",
        "  del b\n",
        "  return a"
      ],
      "execution_count": 18,
      "outputs": [
        {
          "output_type": "stream",
          "text": [
            "Writing memscript.py\n"
          ],
          "name": "stdout"
        }
      ]
    },
    {
      "cell_type": "code",
      "metadata": {
        "id": "BwCX25yzkeAc",
        "colab_type": "code",
        "colab": {
          "base_uri": "https://localhost:8080/",
          "height": 72
        },
        "outputId": "414f556a-417a-45c6-bdc8-45e9ebf14866"
      },
      "source": [
        "from memscript import my_func\n",
        "%mprun -T mprof0 -f my_func my_func()"
      ],
      "execution_count": 19,
      "outputs": [
        {
          "output_type": "stream",
          "text": [
            "\n",
            "\n",
            "*** Profile printout saved to text file mprof0. \n"
          ],
          "name": "stdout"
        }
      ]
    }
  ]
}